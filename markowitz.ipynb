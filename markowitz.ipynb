{
 "cells": [
  {
   "cell_type": "markdown",
   "id": "96113635-1d2c-4bf8-9879-c692a9c8b647",
   "metadata": {},
   "source": [
    "We derive the basic results for the mean-variance portfolio optimisation problem."
   ]
  },
  {
   "cell_type": "markdown",
   "id": "0bfcc270-91d7-41c1-8abb-8447e6e8bfcc",
   "metadata": {},
   "source": [
    "Suppose we have $n$ assets with expected returns $\\mu$ and the covariance matrix of returns $\\Sigma$ which we assume to be positive definite.\n",
    "\n",
    "Let $w$ denote the desired weights of the assets in the portfolio. We would like to minimise the variance of the portfolio:\n",
    "$$v = w^T \\Sigma w$$\n",
    "given the target return\n",
    "$$w^T \\mu = r$$\n",
    "and subject to the full investment constraint\n",
    "$$w^T \\mathbb{1} = 1.$$\n",
    "\n",
    "Note that using the excess return over the risk-free rate $r_f$ results in an equivalent problem. Let $\\mu' = \\mu - r_f \\mathbb{1}$ be the excess returns of the assets and $r' = r - r_f$ be the target excess return. Then\n",
    "$$w^T \\mu = w^T (\\mu' + r_f \\mathbb{1}) = w^T \\mu' + r_f w^T \\mathbb{1} = r' + r_f = r.$$\n",
    "Therefore, we can solve the optimisation problem assuming zero risk-free rate.\n",
    "\n",
    "Using the method of Lagrangian multipliers, we are looking to minimise the objective function\n",
    "$$w^T \\Sigma w + \\lambda_1 (r - w^T \\mu) + \\lambda_2 (1 - w^T \\mathbb{1}).$$\n",
    "Taking the first derivative by $w$ and setting it to 0, we obtain the equation\n",
    "$$2 \\Sigma w - \\lambda_1 \\mu - \\lambda_2 \\mathbb{1} = 0,$$\n",
    "from which\n",
    "$$w = \\frac{1}{2}\\Sigma^{-1}(\\lambda_1 \\mu + \\lambda_2 \\mathbb{1}).$$\n",
    "\n",
    "Taking the second derivative of the objective function with respect to $w$, we get\n",
    "$$2 \\Sigma,$$\n",
    "which is positive definite by assumption, so the solution will indeed be a minimum."
   ]
  },
  {
   "cell_type": "markdown",
   "id": "6e3862aa-9fd8-4055-8ad7-bad4c70e531c",
   "metadata": {},
   "source": [
    "Substituting $w$ into the constrain equations, we have\n",
    "$$\\begin{split}\n",
    "\\frac{1}{2}(\\lambda_1 \\mu + \\lambda_2 \\mathbb{1})^T \\Sigma^{-1} \\mu &= r \\\\\n",
    "\\frac{1}{2}(\\lambda_1 \\mu + \\lambda_2 \\mathbb{1})^T \\Sigma^{-1} \\mathbb{1} &= 1 \\\\\n",
    "\\end{split}$$\n",
    "where we used the fact that the covariance matrix is symmetric. Expanding the equations, we have\n",
    "$$\\begin{split}\n",
    "\\lambda_1 \\mu^T \\Sigma^{-1} \\mu + \\lambda_2 \\mathbb{1}^T \\Sigma^{-1} \\mu &= 2 r \\\\\n",
    "\\lambda_1 \\mu^T \\Sigma^{-1} \\mathbb{1} + \\lambda_2 \\mathbb{1}^T \\Sigma^{-1} \\mathbb{1} &= 2 \\\\\n",
    "\\end{split}$$\n",
    "and denoting \n",
    "$$\\begin{split}\n",
    "A &= \\mu^T \\Sigma^{-1} \\mu \\\\\n",
    "B &= \\mathbb{1}^T \\Sigma^{-1} \\mu \\\\\n",
    "C &= \\mathbb{1}^T \\Sigma^{-1} \\mathbb{1} \\\\\n",
    "\\end{split}$$\n",
    "the equations become\n",
    "$$\\begin{split}\n",
    "\\lambda_1 A + \\lambda_2 B &= 2 r \\\\\n",
    "\\lambda_1 B + \\lambda_2 C &= 2 \\\\\n",
    "\\end{split}$$\n",
    "\n",
    "Since $\\Sigma$ is positive definite, so is $\\Sigma^{-1}$, and thus $A > 0$ as long as $\\mu \\neq 0$ and $C > 0$. "
   ]
  },
  {
   "cell_type": "markdown",
   "id": "d08d86d2-8c4c-4df3-82fe-c089664361db",
   "metadata": {},
   "source": [
    "### The case $B = 0$\n",
    "\n",
    "Suppose $B = 0$, then the solution to the system above is\n",
    "$$\\begin{split}\n",
    "\\lambda_1 &= 2 \\frac{1}{A} r \\\\\n",
    "\\lambda_2 &= 2 \\frac{1}{C} \\\\\n",
    "\\end{split}$$\n",
    "\n",
    "We will come back to these solutions later."
   ]
  },
  {
   "cell_type": "markdown",
   "id": "298fea55-116d-4430-9fc7-bc94b2858c5b",
   "metadata": {},
   "source": [
    "### The case $B \\neq 0$\n",
    "\n",
    "Now suppose $B \\neq 0$, and rewrite the equations as\n",
    "$$\\begin{split}\n",
    "\\lambda_1 + \\lambda_2 \\frac{B}{A} &= 2 \\frac{1}{A} r \\\\\n",
    "\\lambda_1 + \\lambda_2 \\frac{C}{B} &= 2 \\frac{1}{B} \\\\\n",
    "\\end{split}$$\n",
    "from which\n",
    "$$\\lambda_2 \\left(\\frac{B}{A} - \\frac{C}{B} \\right) = 2 \\left(\\frac{1}{A} r - \\frac{1}{B}\\right)$$\n",
    "and\n",
    "$$\\lambda_2 \\frac{B^2 - AC}{AB} = 2 \\frac{Br - A}{AB}.$$\n",
    "Using the assumption that $B \\neq 0$, we get\n",
    "$$\\lambda_2 (B^2 - AC) = 2 (Br - A).$$"
   ]
  },
  {
   "cell_type": "markdown",
   "id": "123ee1e0-8821-4f33-9415-96bf0d7554a8",
   "metadata": {},
   "source": [
    "Let $a = \\Sigma^{-1/2} \\mu$ and $b = \\Sigma^{-1/2} \\mathbb{1}$. Then $A = a^T a$, $B = a^T b$ and $C = b^T b$. By Cauchy-Schwarz, we have \n",
    "$$B^2 = (a^T b)^2 \\leq a^T a b^T b = A C,$$\n",
    "therefore $D \\geq 0$, and $D = 0$ only $a$ and $b$ are parallel, i.e. if $\\mu = c \\mathbb{1}$ for some $c$, meaning that the returns of all assets are the same. The constraints $w^T \\mu = r$ and $w^T \\mathbb{1} = 1$ then imply $w^T \\mu = c w^T \\mathbb{1} = c = r$, that is $\\mu = r \\mathbb{1}$."
   ]
  },
  {
   "cell_type": "markdown",
   "id": "6e420421-49f7-441d-b440-5ffb7d8837e6",
   "metadata": {},
   "source": [
    "### The case $D = 0$\n",
    "\n",
    "If $D = AC - B^2 = 0$, from the previous equation for $\\lambda_2$, we only have a solution when\n",
    "$$r = \\frac{A}{B}.$$\n",
    "We can see that the second constraint is not binding in this case, so $\\lambda_2$ can take any value, whereas for $\\lambda_1$ we have\n",
    "$$\\lambda_1 = 2\\frac{1}{A} r - \\lambda_2 \\frac{B}{A}.$$\n",
    "Then\n",
    "$$\\begin{split}\n",
    "w \n",
    "&= \\frac{1}{2} \\Sigma^{-1}(\\lambda_1 \\mu + \\lambda_2 \\mathbb{1}) \\\\\n",
    "&= \\frac{1}{2} \\Sigma^{-1}\\left(\\left(2\\frac{1}{A} r - \\lambda_2 \\frac{B}{A}\\right) \\mu + \\lambda_2 \\mathbb{1}\\right) \\\\\n",
    "&= \\frac{1}{2} \\Sigma^{-1}\\left(2\\frac{1}{A} r \\mu - \\lambda_2 \\frac{B}{A} \\mu + \\lambda_2 \\mathbb{1}\\right) \\\\\n",
    "&= \\frac{1}{2} \\Sigma^{-1}\\left(2\\frac{1}{A} r \\mu - \\lambda_2 \\frac{B}{A} r \\mathbb{1} + \\lambda_2 \\mathbb{1}\\right) \\\\\n",
    "&= \\frac{1}{2} \\Sigma^{-1}\\left(2\\frac{1}{A} r \\mu - \\lambda_2 \\frac{B}{A} \\frac{A}{B} \\mathbb{1} + \\lambda_2 \\mathbb{1}\\right) \\\\\n",
    "&= \\frac{1}{2} \\Sigma^{-1}\\left(2\\frac{1}{A} r \\mu - \\lambda_2 \\mathbb{1} + \\lambda_2 \\mathbb{1}\\right) \\\\\n",
    "&= \\frac{1}{A} r \\Sigma^{-1} \\mu \\\\\n",
    "&= \\frac{1}{A} r^2 \\Sigma^{-1} \\mathbb{1} \\\\\n",
    "&= \\frac{A}{B^2} \\Sigma^{-1} \\mathbb{1}. \\\\\n",
    "\\end{split}$$\n",
    "The variance of the portfolio is then\n",
    "$$v = w^T \\Sigma w = \\frac{A^2}{B^4} \\mathbb{1}^T \\Sigma^{-1} \\mathbb{1} = \\frac{A^2}{(AC)^2} C = \\frac{1}{C}.$$"
   ]
  },
  {
   "cell_type": "markdown",
   "id": "145cd75c-11e4-47a9-8e25-33dacc040109",
   "metadata": {},
   "source": [
    "### The case $D > 0$\n",
    "\n",
    "If $D > 0$, the system of equations for $\\lambda_1$ and $\\lambda_2$ yields the solution\n",
    "$$\\begin{split}\n",
    "\\lambda_1 &= 2\\frac{C}{D} r - 2 \\frac{B}{D} \\\\\n",
    "\\lambda_2 &= -2\\frac{B}{D} r + 2 \\frac{A}{D} \\\\\n",
    "\\end{split}$$\n",
    "Note that substituting $B = 0$ into these equations yields the solutions we obtained earlier for the case $B = 0$, so the subsequent discussion covers that case also.\n",
    "\n",
    "The optimal weights corresponding to the solution are:\n",
    "$$\\begin{split}\n",
    "w \n",
    "&= \\frac{1}{2} \\Sigma^{-1}(\\lambda_1 \\mu + \\lambda_2 \\mathbb{1}) \\\\\n",
    "&= \\Sigma^{-1}\\left[\\left(\\frac{C}{D} r - \\frac{B}{D}\\right) \\mu + \\left(-\\frac{B}{D} r + \\frac{A}{D}\\right) \\mathbb{1}\\right]. \\\\\n",
    "\\end{split}$$\n",
    "\n",
    "The variance of the portfolio is\n",
    "$$\\begin{split}\n",
    "v \n",
    "&= w^T \\Sigma w \\\\\n",
    "&= \\mu^T \\Sigma^{-1} \\mu \\left[\\frac{C}{D} r - \\frac{B}{D}\\right]^2 + 2 \\mu^T \\Sigma^{-1} \\mathbb{1} \\left[\\frac{C}{D} r - \\frac{B}{D}\\right]\\left[-\\frac{B}{D} r + \\frac{A}{D} \\right] + \\mathbb{1}^T \\Sigma^{-1} \\mathbb{1} \\left[-\\frac{B}{D} r + \\frac{A}{D} \\right]^2 \\\\\n",
    "&= \\frac{C}{D} \\left(r - \\frac{B}{C}\\right)^2 + \\frac{1}{C}\n",
    "\\end{split}$$\n",
    "\n",
    "We see that the variance of the optimal portfolio is quadratic in the portfolio return.\n",
    "\n",
    "The variance is smallest when \n",
    "$$r = \\frac{B}{C}$$\n",
    "and equals\n",
    "$$v_{\\text{min}} = \\frac{1}{C}.$$\n",
    "\n",
    "Now, we would like to obtain the solution in terms of the standard deviation of the portfolio return $\\sigma$, where $\\sigma^2 = v$:\n",
    "$$\\sigma = \\sqrt{\\frac{C}{D} \\left(r - \\frac{B}{C}\\right)^2 + \\frac{1}{C}}.$$"
   ]
  },
  {
   "cell_type": "markdown",
   "id": "8b62f790-7e4f-4847-9ae9-aa23ce8df272",
   "metadata": {},
   "source": [
    "#### The tangency portfolio\n",
    "\n",
    "Let us consider a line connecting the point corresponding to the risk-free rate ($r = 0$ and $v = 0$) and a point on the efficient frontier. We wish to find the point on the efficient frontier where this line is tangential to the frontier, or equivalently the line with the largest slope passing through the point corresponding to the risk-free rate and some point on the efficient frontier. Therefore, we seek to maximise\n",
    "$$\\frac{r}{\\sigma}.$$\n",
    "Taking the risk derivative and setting it to zero gives us the equation\n",
    "$$\\sigma - \\sigma' r = 0,$$\n",
    "where\n",
    "$$\\sigma' = \\frac{\\frac{C}{D}\\left(r - \\frac{B}{C}\\right)}{\\sigma},$$\n",
    "therefore the equation becomes\n",
    "$$\\sigma^2 - \\frac{C}{D}\\left(r - \\frac{B}{C}\\right) = 0.$$\n",
    "that is\n",
    "$$\\frac{C}{D} \\left(r - \\frac{B}{C}\\right)^2 + \\frac{1}{C} - \\frac{C}{D}\\left(r - \\frac{B}{C}\\right) r = 0.$$\n",
    "Diving by $\\frac{C}{D}$ and rearranging further, we get\n",
    "$$\\left(r - \\frac{B}{C}\\right)^2 + \\frac{D}{C^2} - \\left(r - \\frac{B}{C}\\right) \\left(r - \\frac{B}{C} + \\frac{B}{C}\\right) = 0$$\n",
    "and\n",
    "$$\\left(r - \\frac{B}{C}\\right)^2 + \\frac{D}{C^2} - \\left(r - \\frac{B}{C}\\right)^2 -  \\frac{B}{C} \\left(r - \\frac{B}{C} \\right) = 0,$$\n",
    "which simplifies to\n",
    "$$\\frac{B}{C} \\left(r - \\frac{B}{C} \\right) = \\frac{D}{C^2}.$$\n",
    "The solution is \n",
    "$$r = \\frac{A}{B},$$\n",
    "giving us the weights\n",
    "$$w = \\frac{1}{B} \\Sigma^{-1} \\mu$$\n",
    "and the variance of the portfolio\n",
    "$$v = w^T \\Sigma w = \\frac{1}{B^2} \\mu^T \\Sigma^{-1} \\mu = \\frac{A}{B^2}.$$\n",
    "\n",
    "The slope at the tangency portfolion (i.e. the Sharpe ratio) is then\n",
    "$$\\frac{r}{\\sigma} = \\sqrt{A}.$$"
   ]
  },
  {
   "cell_type": "code",
   "execution_count": 1,
   "id": "f521998d-4757-446b-acd1-25c21991c22e",
   "metadata": {},
   "outputs": [],
   "source": [
    "import numpy as np\n",
    "import matplotlib.pyplot as plt"
   ]
  },
  {
   "cell_type": "code",
   "execution_count": 2,
   "id": "bd8ebabd-d773-42f3-ace0-da2c341aa0aa",
   "metadata": {},
   "outputs": [],
   "source": [
    "mu = np.array([0.1, 0.15, 0.2])\n",
    "corr = np.array([\n",
    "    [1., 0.7, 0.3],\n",
    "    [0.7, 1., 0.5],\n",
    "    [0.3, 0.5, 1.],\n",
    "])\n",
    "variances = np.array([0.2, 0.4, 0.3])\n",
    "Sigma = np.diag(variances) @ corr @ np.diag(variances)"
   ]
  },
  {
   "cell_type": "code",
   "execution_count": 3,
   "id": "6886c00a-18ae-42f5-8c5c-effc9bb4ba0e",
   "metadata": {},
   "outputs": [],
   "source": [
    "Sigma_inv = np.linalg.inv(Sigma)\n",
    "A = mu @ Sigma_inv @ mu\n",
    "B = np.sum(Sigma_inv @ mu)\n",
    "C = np.sum(Sigma_inv)\n",
    "D = A * C - B ** 2"
   ]
  },
  {
   "cell_type": "code",
   "execution_count": 4,
   "id": "a02cac70-f6f2-474f-83ac-46191e80a1cf",
   "metadata": {},
   "outputs": [],
   "source": [
    "r = np.linspace(-0.2, 0.4, 100)\n",
    "v = C / D * (r - B / C) ** 2 + 1 / C\n",
    "r_tan = A / B\n",
    "v_tan = A / B ** 2"
   ]
  },
  {
   "cell_type": "code",
   "execution_count": 5,
   "id": "f57629dc-9dfa-4a04-b2bc-734231a078fa",
   "metadata": {},
   "outputs": [
    {
     "data": {
      "image/png": "[encoded data removed]",
      "text/plain": [
       "<Figure size 640x480 with 1 Axes>"
      ]
     },
     "metadata": {},
     "output_type": "display_data"
    }
   ],
   "source": [
    "fig, ax = plt.subplots()\n",
    "ax.plot(np.sqrt(v), r, label='Efficient frontier');\n",
    "ax.scatter(np.sqrt(np.diag(Sigma)), mu, color='orange', label='Assets');\n",
    "ax.axline((0, 0), (np.sqrt(v_tan), r_tan), linestyle='--', color='red', label='Capital market line');\n",
    "ax.scatter(np.sqrt(v_tan), r_tan, color='red', label='Tangency portfolio');\n",
    "ax.set_title('Efficient frontier');\n",
    "ax.set_xlim([0, 0.6]);\n",
    "ax.set_ylim([-0.1, 0.35]);\n",
    "ax.legend();"
   ]
  }
 ],
 "metadata": {
  "kernelspec": {
   "display_name": "Python 3 (ipykernel)",
   "language": "python",
   "name": "python3"
  },
  "language_info": {
   "codemirror_mode": {
    "name": "ipython",
    "version": 3
   },
   "file_extension": ".py",
   "mimetype": "text/x-python",
   "name": "python",
   "nbconvert_exporter": "python",
   "pygments_lexer": "ipython3",
   "version": "3.13.0"
  }
 },
 "nbformat": 4,
 "nbformat_minor": 5
}

{
 "cells": [
  {
   "cell_type": "markdown",
   "id": "8f130462-1933-4451-95b8-ecff2ebf0d51",
   "metadata": {},
   "source": [
    "In subsection 14.4.2.4 \"Traders Do Not Know Values Instantaneously\", Harris says:\n",
    "> The one caveat concerns results involving volatility. A theorem from statistics proves that the volatility of an estimate of a variable is less than the volatility of the variable being estimated. Value estimate volatility therefore is lower than value volatility. Consequently, spreads should be smaller when traders do not know values well.\n",
    "> \n",
    "> This result is correct, but it does not seem right. Spreads generally are larger when traders are uncertain about values. The discrepancy has to do with the distribution of information. This unusual result comes from our assumption that all traders are equally ignorant. In practice, traders are asymmetrically informed.\n",
    "\n",
    "This reasoning does not appear correct. If the value $v$ is subject to an independent estimation error $\\varepsilon$, so that the estimate is\n",
    "$$v' = v + \\varepsilon,$$\n",
    "then the variance of the estimate is\n",
    "$$\\text{Var}(v') = \\text{Var}(v) + \\text{Var}(\\varepsilon).$$\n",
    "The variance of the estimation error $\\varepsilon$ can be reduced if one has more data, but the variance of $v$ remains unchanged.\n",
    "\n",
    "The theorem that he refers to does not apply here, since $v'_i$ are not independent, but are in fact correlated via $v$, therefore:\n",
    "$$\\text{Var}\\left(\\frac{1}{n}\\sum_{i=1}^n v'_i\\right) \\neq \\frac{\\text{Var}(v')}{n}.$$"
   ]
  }
 ],
 "metadata": {
  "kernelspec": {
   "display_name": "Python 3 (ipykernel)",
   "language": "python",
   "name": "python3"
  },
  "language_info": {
   "codemirror_mode": {
    "name": "ipython",
    "version": 3
   },
   "file_extension": ".py",
   "mimetype": "text/x-python",
   "name": "python",
   "nbconvert_exporter": "python",
   "pygments_lexer": "ipython3",
   "version": "3.12.4"
  }
 },
 "nbformat": 4,
 "nbformat_minor": 5
}

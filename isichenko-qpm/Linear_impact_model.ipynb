{
 "cells": [
  {
   "cell_type": "markdown",
   "id": "8b6d3024-a36e-4dcb-8ca0-708fde48556d",
   "metadata": {},
   "source": [
    "Here we elaborate on the derivations in sections 5.2.2-5.2.4 of \"Quantitative Portfolio Management\" by Isichenko."
   ]
  },
  {
   "cell_type": "markdown",
   "id": "15ab70d2-9db1-451b-998b-e82813760492",
   "metadata": {},
   "source": [
    "### Derivation of (5.3) from (5.5)"
   ]
  },
  {
   "cell_type": "markdown",
   "id": "36d669f8-dcff-41fe-a548-03c76ea1ba7c",
   "metadata": {},
   "source": [
    "First, we attempt to derive expression (5.3) from (5.5) under the stated assumptions. We start from the expression (5.2) for the impact:\n",
    "$$I(t) = \\int_0^t \\lambda \\dot{P}(t') e^{-\\nu (t - t')} dt'.$$\n",
    "If a trade $T$ is made over time much shorter than impact decay, we have $t' \\leq t \\ll 1$, so the exponent term inside the integral above is approximately 1:\n",
    "$$e^{-\\nu (t - t')} \\approx 1,$$\n",
    "thus\n",
    "$$I(t) \\approx \\int_0^t \\lambda \\dot{P}(t') dt'.$$\n",
    "Assuming a constant trading rate over the trade execution time $t_e$, i.e.\n",
    "$$\\dot{P} = \\frac{T}{t_e}$$\n",
    "yields\n",
    "$$I(t) \\approx \\int_0^t \\lambda \\frac{T}{t_e} dt' = \\lambda T \\frac{t}{t_e}$$\n",
    "and\n",
    "$$\\dot{I} = \\frac{\\lambda T}{t_e}.$$\n",
    "The position at time $t$ is given by\n",
    "$$P(t) = \\int_0^t \\dot{P} dt = T \\frac{t}{t_e}.$$\n",
    "Substituting $P(t)$ and $\\dot{I}(t)$ into (5.5), we obtain\n",
    "$$\\text{Cost}(0, t) \n",
    "= - \\int_0^t P(t') \\dot{I}(t') dt' \n",
    "= - \\int_0^t T \\frac{t'}{t_e} \\frac{\\lambda T}{t_e} dt' \n",
    "= -\\lambda \\left(\\frac{T}{t_e}\\right)^2 \\int_0^t t' dt'\n",
    "= -\\frac{\\lambda}{2} \\left(T\\frac{t}{t_e}\\right)^2.$$\n",
    "The cost of executing the trade fully is then\n",
    "$$\\text{Cost}(0, t_e) = -\\frac{\\lambda T^2}{2},$$\n",
    "where the sign does not match (5.3)."
   ]
  },
  {
   "cell_type": "markdown",
   "id": "0053a32d-91e3-4ae7-b0b5-2e68e91084be",
   "metadata": {},
   "source": [
    "### Definition of the impact cost"
   ]
  },
  {
   "cell_type": "markdown",
   "id": "17103267-a37e-4460-addc-2ee20f9d6f9a",
   "metadata": {},
   "source": [
    "To resolve the issue above, let us define the impact cost from first principles. Suppose the price of the stock at time $t$ is $S(t)$ and it is affected by trading. The cost of maintaining the position $P(t)$ that evolves in time is\n",
    "$$\\int_0^t S dP = \\int_0^t S(t') \\dot{P}(t') dt'.$$\n",
    "Let us now define the impact cost as the difference between the cost above and the cost of maintaining the same position with the stock price fixed at its initial value:\n",
    "$$\\text{Cost}(0, t) = \\int_0^t S(t') \\dot{P}(t') dt' - S(0) \\int_0^t \\dot{P}(t') dt'\n",
    "= \\int_0^t S(t') \\dot{P}(t') dt' - S(0) P(t).$$\n",
    "Denoting the price impact $I(t)$ as\n",
    "$$I(t) = S(t) - S(0),$$\n",
    "we obtain\n",
    "$$\\text{Cost}(0, t) = \\int_0^t (S(0) + I(t')) \\dot{P}(t') dt' - S(0) P(t)\n",
    "= \\int_0^t I(t') \\dot{P}(t') dt'.$$\n",
    "Substituting $I(t)$ and $\\dot{P}(t)$ obtained previously into this last expression now gives us\n",
    "$$\\text{Cost}(0, t_e) = \\frac{\\lambda T^2}{2},$$\n",
    "in agreement with (5.3).\n",
    "\n",
    "Using (5.2), we can also write\n",
    "$$\\text{Cost}(0, t) = \\frac{\\lambda}{2} \\int_0^t \\int_0^t \\dot{P}(t') \\dot{P}(t'') e^{-\\nu|t' - t''|} dt' dt''.$$"
   ]
  },
  {
   "cell_type": "markdown",
   "id": "6d96ecd3-167b-4c62-aa3c-efb75630da9b",
   "metadata": {},
   "source": [
    "Alternatively, we can define the impact cost relative to the resulting price $S(t)$:\n",
    "$$\\begin{split}\n",
    "\\text{Cost}(0, t) \n",
    "&= \\int_0^t S(t') \\dot{P}(t') dt' - S(t) \\int_0^t \\dot{P}(t') dt' \\\\\n",
    "&= \\int_0^t S(t') \\dot{P}(t') dt' - S(t) P(t) \\\\\n",
    "&= \\int_0^t (S(0) + I(t)) \\dot{P}(t') dt' - (S(0) + I(t)) P(t) \\\\\n",
    "&= \\int_0^t I(t) \\dot{P}(t') dt' - I(t) P(t) \\\\\n",
    "&= I(t) P(t) - \\int_0^t \\dot{I}(t) P(t') dt' - I(t) P(t) \\\\\n",
    "&= - \\int_0^t \\dot{I}(t) P(t') dt'.\n",
    "\\end{split}$$\n",
    "This is the expression given as (5.5)."
   ]
  },
  {
   "cell_type": "markdown",
   "id": "9935e106-6220-4d14-ac61-36f1eaf375e3",
   "metadata": {},
   "source": [
    "### Instantaneous impact cost model"
   ]
  },
  {
   "cell_type": "markdown",
   "id": "e64b6472-ec28-4a88-bbe0-f199686b0c5f",
   "metadata": {},
   "source": [
    "As $\\nu \\to \\infty$, we can approximate\n",
    "$$e^{-\\nu (t - t')} \\to \\frac{1}{\\nu} \\delta(t - t').$$\n",
    "Substituting this expression into (5.2) leads to\n",
    "$$I(t) = \\int_0^t \\lambda \\dot{P}(t') e^{-\\nu(t - t')} dt' \\approx \\frac{\\lambda}{\\nu} \\dot{P}(t) = \\mu \\dot{P},$$\n",
    "where we have denoted $\\mu = \\frac{\\lambda}{\\nu}$.\n",
    "\n",
    "Using the expression for the impact cost relative to the starting price then yields\n",
    "$$\\frac{d\\text{Cost}(0, t)}{dt} = I(t) \\dot{P}(t) = \\mu (\\dot{P})^2.$$"
   ]
  },
  {
   "cell_type": "markdown",
   "id": "ab551200-5994-4188-b95e-a2aa32a13d09",
   "metadata": {},
   "source": [
    "### Impact arbitrage"
   ]
  },
  {
   "cell_type": "markdown",
   "id": "a97fc714-e118-400b-9554-65c0d905e8fe",
   "metadata": {},
   "source": [
    "Rewriting (5.2), we have\n",
    "$$\\dot{P} = \\frac{\\dot{I} + \\nu I}{\\lambda}.$$\n",
    "\n",
    "In the arbitrage setting, we assume that we open and close the position within $[0, t]$, such that $P(t) = P(0) = 0$. As the price impact is driven only by our trading and is subject to exponential decay, we also know that $I(t) = 0$ and $S(t) = S(0)$. Therefore, both definitions of the impact cost above will give the same result.\n",
    "\n",
    "We use the definition of impact cost relative to the initial price:\n",
    "$$\\begin{split}\n",
    "\\text{Cost}(0, t) \n",
    "&= \\int_0^t I \\dot{P} dt' \\\\\n",
    "&= \\int_0^t I \\frac{\\dot{I} + \\nu I}{\\lambda} dt' \\\\\n",
    "&= \\int_0^t \\frac{I \\dot{I}}{\\lambda} dt' + \\int_0^t \\frac{\\nu I^2}{\\lambda} dt' \\\\\n",
    "&= \\frac{1}{2} \\int_0^t \\frac{1}{\\lambda} d(I^2) + \\int_0^t \\frac{\\nu I^2}{\\lambda} dt' \\\\\n",
    "&= \\frac{1}{2} \\left( \\left.\\frac{I^2}{\\lambda}\\right|_0^t + \\int_0^t \\frac{I^2}{\\lambda^2} \\dot{\\lambda} dt' \\right) + \\int_0^t \\frac{\\nu I^2}{\\lambda} dt' \\\\\n",
    "&= \\frac{1}{2} \\int_0^t \\frac{I^2}{\\lambda^2} (\\dot{\\lambda} + 2 \\nu\\lambda) dt',\\\\\n",
    "\\end{split}$$\n",
    "where in the last step we used the fact that $I(t) = I(0) = 0$.\n",
    "\n",
    "Since $\\lambda \\geq 0$, the necessary condition for the cost to be negative is\n",
    "$$\\dot{\\lambda} + 2 \\nu\\lambda < 0$$\n",
    "for some intervals of $t$, or equivalently\n",
    "$$\\dot{\\lambda} < -2 \\nu \\lambda.$$"
   ]
  }
 ],
 "metadata": {
  "kernelspec": {
   "display_name": "Python 3 (ipykernel)",
   "language": "python",
   "name": "python3"
  },
  "language_info": {
   "codemirror_mode": {
    "name": "ipython",
    "version": 3
   },
   "file_extension": ".py",
   "mimetype": "text/x-python",
   "name": "python",
   "nbconvert_exporter": "python",
   "pygments_lexer": "ipython3",
   "version": "3.12.4"
  }
 },
 "nbformat": 4,
 "nbformat_minor": 5
}

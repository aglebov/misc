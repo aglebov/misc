{
 "cells": [
  {
   "cell_type": "markdown",
   "id": "8b6d3024-a36e-4dcb-8ca0-708fde48556d",
   "metadata": {},
   "source": [
    "Here we elaborate on the derivations in section 5.2.2 (Linear impact models) of \"Quantitative Portfolio Management\" by Isichenko."
   ]
  },
  {
   "cell_type": "markdown",
   "id": "15ab70d2-9db1-451b-998b-e82813760492",
   "metadata": {},
   "source": [
    "#### Derivation of (5.3) from (5.5)"
   ]
  },
  {
   "cell_type": "markdown",
   "id": "36d669f8-dcff-41fe-a548-03c76ea1ba7c",
   "metadata": {},
   "source": [
    "First, we attempt to derive expression (5.3) from (5.5) under the stated assumptions. We start from the expression (5.2) for the impact:\n",
    "$$I(t) = \\int_0^t \\lambda \\dot{P}(t') e^{-\\nu (t - t')} dt'.$$\n",
    "If a trade $T$ is made over time much shorter than impact decay, we have $t' \\leq t \\ll 1$, so the exponent term inside the integral above is approximately 1:\n",
    "$$e^{-\\nu (t - t')} \\approx 1,$$\n",
    "thus\n",
    "$$I(t) \\approx \\int_0^t \\lambda \\dot{P}(t') dt'.$$\n",
    "Assuming a constant trading rate over the time $t_e$, i.e.\n",
    "$$\\dot{P} = \\frac{T}{t_e}$$\n",
    "yields\n",
    "$$I(t) \\approx \\int_0^t \\lambda \\frac{T}{t_e} dt' = \\lambda T \\frac{t}{t_e}$$\n",
    "and\n",
    "$$\\dot{I} = \\frac{\\lambda T}{t_e}.$$\n",
    "The position at time $t$ is given by\n",
    "$$P(t) = \\int_0^t \\dot{P} dt = T \\frac{t}{t_e}.$$\n",
    "Substituting $P(t)$ and $\\dot{I}(t)$ into (5.5), we obtain\n",
    "$$\\text{Cost}(0, t) \n",
    "= - \\int_0^t P(t') \\dot{I}(t') dt' \n",
    "= - \\int_0^t T \\frac{t'}{t_e} \\frac{\\lambda T}{t_e} dt' \n",
    "= -\\lambda \\left(\\frac{T}{t_e}\\right)^2 \\int_0^t t' dt'\n",
    "= -\\frac{\\lambda}{2} \\left(T\\frac{t}{t_e}\\right)^2.$$\n",
    "The cost of executing the trade fully is then\n",
    "$$\\text{Cost}(0, t_e) = -\\frac{\\lambda T^2}{2},$$\n",
    "where the sign does not match (5.3), as we can see."
   ]
  },
  {
   "cell_type": "markdown",
   "id": "0053a32d-91e3-4ae7-b0b5-2e68e91084be",
   "metadata": {},
   "source": [
    "#### A new definition of the impact cost"
   ]
  },
  {
   "cell_type": "markdown",
   "id": "17103267-a37e-4460-addc-2ee20f9d6f9a",
   "metadata": {},
   "source": [
    "Let us try a different definition of impact cost. Suppose the price of the stock is $S$ and it is affected by trading. The cost of acquiring position $P(t)$ that evolves in time is\n",
    "$$\\int_0^t S dP = \\int_0^t S(t') \\dot{P}(t') dt'.$$\n",
    "Let us now define the impact cost as the difference between the cost above and the cost of aquiring the same position if the price remains at its initial value:\n",
    "$$\\text{Cost}(0, t) = \\int_0^t S(t') \\dot{P}(t') dt' - S(0) \\int_0^t \\dot{P}(t') dt'\n",
    "= \\int_0^t S(t') \\dot{P}(t') dt' - S(0) P(t).$$\n",
    "Denoting the price impact $I(t)$ as\n",
    "$$I(t) = S(t) - S(0),$$\n",
    "we obtain\n",
    "$$\\text{Cost}(0, t) = \\int_0^t (S(0) + I(t')) \\dot{P}(t') dt' - S(0) P(t)\n",
    "= \\int_0^t I(t') \\dot{P}(t') dt'.$$\n",
    "Substituting $I(t)$ and $\\dot{P}(t)$ now gives us\n",
    "$$\\text{Cost}(0, t_e) = \\frac{\\lambda T^2}{2},$$\n",
    "as expected."
   ]
  },
  {
   "cell_type": "markdown",
   "id": "f3e5bec7-b8f2-4b83-abe0-dbc1aa350d95",
   "metadata": {},
   "source": [
    "Using integration by parts, we get\n",
    "$$\\text{Cost}(0, t) = \\int_0^t I(t') \\dot{P}(t') dt'\n",
    "= I(t) P(t) - \\int_0^t \\dot{I}(t') P(t') dt'.$$\n",
    "The last term on the right-hand side was used as the definition of the impact cost in (5.5).\n",
    "\n",
    "Using (5.2), we can also write\n",
    "$$\\text{Cost}(0, t) = \\frac{\\lambda}{2} \\int_0^t \\int_0^t \\dot{P}(t') \\dot{P}(t'') e^{-\\nu|t' - t''|} dt' dt''.$$"
   ]
  }
 ],
 "metadata": {
  "kernelspec": {
   "display_name": "Python 3 (ipykernel)",
   "language": "python",
   "name": "python3"
  },
  "language_info": {
   "codemirror_mode": {
    "name": "ipython",
    "version": 3
   },
   "file_extension": ".py",
   "mimetype": "text/x-python",
   "name": "python",
   "nbconvert_exporter": "python",
   "pygments_lexer": "ipython3",
   "version": "3.12.4"
  }
 },
 "nbformat": 4,
 "nbformat_minor": 5
}

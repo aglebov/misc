{
 "cells": [
  {
   "cell_type": "markdown",
   "id": "5f5d46a4-81cf-4fb5-ab89-129d572e407b",
   "metadata": {},
   "source": [
    "Here we check the statement in item 2 on page 214 of \"Quantitative Portfolio Management\" by Isichenko."
   ]
  },
  {
   "cell_type": "markdown",
   "id": "bf958283-f05e-4259-bc27-e1f95e212062",
   "metadata": {},
   "source": [
    "Using the formula (6.89) for the leverage:\n",
    "$$\\phi^* = \\frac{E(R)}{E(R^2)}$$\n",
    "and the fact that for sum of independent returns over $T$ days\n",
    "$$\\begin{split}\n",
    "E(R) &= \\mu T \\\\\n",
    "\\text{Var}(R) &= E(R^2) - E(R)^2 = \\sigma^2 T, \\\\\n",
    "\\end{split}$$\n",
    "where $\\mu$ and $\\sigma$ are the daily return and volatility, respectively, we obtain\n",
    "$$\\phi^* = \\frac{\\mu T}{\\sigma^2 T + (\\mu T)^2} = \\frac{\\mu}{\\sigma^2 + \\mu^2 T}.$$"
   ]
  },
  {
   "cell_type": "code",
   "execution_count": 1,
   "id": "c4d57e6d-b661-497c-99b5-d5a059e1da54",
   "metadata": {},
   "outputs": [],
   "source": [
    "def leverage(*, mu, sigma, T):\n",
    "    return mu / (sigma ** 2 + mu ** 2 * T)"
   ]
  },
  {
   "cell_type": "markdown",
   "id": "47663f07-89f1-438a-b34a-ca5a7b70b8b4",
   "metadata": {},
   "source": [
    "The leverage for daily bets is:"
   ]
  },
  {
   "cell_type": "code",
   "execution_count": 2,
   "id": "62f2469d-0584-4f7c-a143-0f5d45a7dcac",
   "metadata": {},
   "outputs": [
    {
     "data": {
      "text/plain": [
       "153.84615384615384"
      ]
     },
     "execution_count": 2,
     "metadata": {},
     "output_type": "execute_result"
    }
   ],
   "source": [
    "leverage(mu=0.0001, sigma=0.0008, T=1)"
   ]
  },
  {
   "cell_type": "markdown",
   "id": "208de361-fb53-4d8a-a2f8-dab112a5631b",
   "metadata": {},
   "source": [
    "and the leverage for bets over 1 year is:"
   ]
  },
  {
   "cell_type": "code",
   "execution_count": 3,
   "id": "a9e0d7df-363d-460f-b4c5-050e18f5f142",
   "metadata": {},
   "outputs": [
    {
     "data": {
      "text/plain": [
       "31.645569620253163"
      ]
     },
     "execution_count": 3,
     "metadata": {},
     "output_type": "execute_result"
    }
   ],
   "source": [
    "leverage(mu=0.0001, sigma=0.0008, T=252)"
   ]
  }
 ],
 "metadata": {
  "kernelspec": {
   "display_name": "Python 3 (ipykernel)",
   "language": "python",
   "name": "python3"
  },
  "language_info": {
   "codemirror_mode": {
    "name": "ipython",
    "version": 3
   },
   "file_extension": ".py",
   "mimetype": "text/x-python",
   "name": "python",
   "nbconvert_exporter": "python",
   "pygments_lexer": "ipython3",
   "version": "3.12.4"
  }
 },
 "nbformat": 4,
 "nbformat_minor": 5
}

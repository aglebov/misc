{
 "cells": [
  {
   "cell_type": "markdown",
   "id": "b062ea00-1cd7-4e93-898a-bdf95e0e7f13",
   "metadata": {},
   "source": [
    "Here we work out the proof for Exercise 1 in \"Kernel Methods for Machine Learning and Statistics\" by Nüsken and Riabiz."
   ]
  },
  {
   "cell_type": "markdown",
   "id": "462ff80a-2f9e-4d35-bbc8-787a86e4a1f1",
   "metadata": {},
   "source": [
    "We show that the Gaussian kernel\n",
    "$$k(x, y) = \\exp\\left(-\\frac{|x-y|^2}{\\sigma^2}\\right)$$\n",
    "is positive definite.\n",
    "\n",
    "Start by rewriting\n",
    "$$k(x, y) \n",
    "= \\exp\\left(-\\frac{x^2}{\\sigma^2}\\right)\\exp\\left(\\frac{2xy}{\\sigma^2}\\right)\\exp\\left(-\\frac{y^2}{\\sigma^2}\\right)\n",
    "= \\exp\\left(-\\frac{x^2 + y^2}{\\sigma^2}\\right)\\exp\\left(\\frac{2xy}{\\sigma^2}\\right).\n",
    "$$\n",
    "\n",
    "We show that both\n",
    "$$\\exp\\left(-\\frac{x^2 + y^2}{\\sigma^2}\\right)$$\n",
    "and \n",
    "$$\\exp\\left(\\frac{2xy}{\\sigma^2}\\right)$$\n",
    "are positive definite kernels. Then by (1.2.8b), $k(x,y)$ is also positive definite.\n",
    "\n",
    "Write\n",
    "$$\\sum_{i,j=1}^n \\alpha_i \\alpha_j \\exp\\left(-\\frac{x_i^2 + x_j^2}{\\sigma^2}\\right) \n",
    "=\\sum_{i=1}^n \\alpha_i \\exp\\left(-\\frac{x_i^2}{\\sigma^2}\\right) \\sum_{j=1}^n \\alpha_j \\exp\\left(-\\frac{x_j^2}{\\sigma^2}\\right)\n",
    "= \\left(\\sum_{i=1}^n \\alpha_i \\exp\\left(-\\frac{x_i^2}{\\sigma^2}\\right)\\right)^2\n",
    "\\geq 0,$$\n",
    "thus\n",
    "$$\\exp\\left(-\\frac{x^2 + y^2}{\\sigma^2}\\right)$$\n",
    "is positive definite.\n",
    "\n",
    "Likewise,\n",
    "$$\\sum_{i,j=1}^n \\alpha_i \\alpha_j \\frac{2 x_i x_j}{\\sigma^2} \n",
    "= \\frac{2}{\\sigma^2} \\sum_{i=1}^n \\alpha_i x_i \\sum_{j=1}^n \\alpha_j x_j\n",
    "= \\frac{2}{\\sigma^2} \\left(\\sum_{i=1}^n \\alpha_i x_i\\right)^2\n",
    "\\geq 0,$$\n",
    "so \n",
    "$$\\frac{2xy}{\\sigma^2}$$\n",
    "is positive definite. By (1.2.8b) then\n",
    "$$\\left(\\frac{2xy}{\\sigma^2}\\right)^m$$\n",
    "is also positive definite, and by (1.2.8a)\n",
    "$$\\sum_{m=0}^\\infty \\frac{1}{m!} \\left(\\frac{2xy}{\\sigma^2}\\right)^m = \\exp\\left(\\frac{2xy}{\\sigma^2}\\right)$$\n",
    "is also positive definite.\n",
    "\n",
    "Combining the two results with (1.2.8b) again, we obtain that $k(x, y)$ is positive definite."
   ]
  }
 ],
 "metadata": {
  "kernelspec": {
   "display_name": "Python 3 (ipykernel)",
   "language": "python",
   "name": "python3"
  },
  "language_info": {
   "codemirror_mode": {
    "name": "ipython",
    "version": 3
   },
   "file_extension": ".py",
   "mimetype": "text/x-python",
   "name": "python",
   "nbconvert_exporter": "python",
   "pygments_lexer": "ipython3",
   "version": "3.12.4"
  }
 },
 "nbformat": 4,
 "nbformat_minor": 5
}
